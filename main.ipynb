{
 "cells": [
  {
   "cell_type": "code",
   "execution_count": 2,
   "id": "ede05c28-2cf6-4726-80a0-daa1a8ec80cf",
   "metadata": {},
   "outputs": [
    {
     "name": "stdout",
     "output_type": "stream",
     "text": [
      "Collecting keras-tuner\n",
      "  Downloading keras_tuner-1.4.7-py3-none-any.whl.metadata (5.4 kB)\n",
      "Requirement already satisfied: keras in c:\\users\\naron\\anaconda3\\lib\\site-packages (from keras-tuner) (3.9.2)\n",
      "Requirement already satisfied: packaging in c:\\users\\naron\\anaconda3\\lib\\site-packages (from keras-tuner) (24.1)\n",
      "Requirement already satisfied: requests in c:\\users\\naron\\anaconda3\\lib\\site-packages (from keras-tuner) (2.32.3)\n",
      "Collecting kt-legacy (from keras-tuner)\n",
      "  Downloading kt_legacy-1.0.5-py3-none-any.whl.metadata (221 bytes)\n",
      "Requirement already satisfied: absl-py in c:\\users\\naron\\anaconda3\\lib\\site-packages (from keras->keras-tuner) (2.2.2)\n",
      "Requirement already satisfied: numpy in c:\\users\\naron\\anaconda3\\lib\\site-packages (from keras->keras-tuner) (1.26.4)\n",
      "Requirement already satisfied: rich in c:\\users\\naron\\anaconda3\\lib\\site-packages (from keras->keras-tuner) (13.7.1)\n",
      "Requirement already satisfied: namex in c:\\users\\naron\\anaconda3\\lib\\site-packages (from keras->keras-tuner) (0.0.8)\n",
      "Requirement already satisfied: h5py in c:\\users\\naron\\anaconda3\\lib\\site-packages (from keras->keras-tuner) (3.11.0)\n",
      "Requirement already satisfied: optree in c:\\users\\naron\\anaconda3\\lib\\site-packages (from keras->keras-tuner) (0.15.0)\n",
      "Requirement already satisfied: ml-dtypes in c:\\users\\naron\\anaconda3\\lib\\site-packages (from keras->keras-tuner) (0.5.1)\n",
      "Requirement already satisfied: charset-normalizer<4,>=2 in c:\\users\\naron\\anaconda3\\lib\\site-packages (from requests->keras-tuner) (3.3.2)\n",
      "Requirement already satisfied: idna<4,>=2.5 in c:\\users\\naron\\anaconda3\\lib\\site-packages (from requests->keras-tuner) (3.7)\n",
      "Requirement already satisfied: urllib3<3,>=1.21.1 in c:\\users\\naron\\anaconda3\\lib\\site-packages (from requests->keras-tuner) (2.2.3)\n",
      "Requirement already satisfied: certifi>=2017.4.17 in c:\\users\\naron\\anaconda3\\lib\\site-packages (from requests->keras-tuner) (2024.8.30)\n",
      "Requirement already satisfied: typing-extensions>=4.5.0 in c:\\users\\naron\\anaconda3\\lib\\site-packages (from optree->keras->keras-tuner) (4.11.0)\n",
      "Requirement already satisfied: markdown-it-py>=2.2.0 in c:\\users\\naron\\anaconda3\\lib\\site-packages (from rich->keras->keras-tuner) (2.2.0)\n",
      "Requirement already satisfied: pygments<3.0.0,>=2.13.0 in c:\\users\\naron\\anaconda3\\lib\\site-packages (from rich->keras->keras-tuner) (2.15.1)\n",
      "Requirement already satisfied: mdurl~=0.1 in c:\\users\\naron\\anaconda3\\lib\\site-packages (from markdown-it-py>=2.2.0->rich->keras->keras-tuner) (0.1.0)\n",
      "Downloading keras_tuner-1.4.7-py3-none-any.whl (129 kB)\n",
      "Downloading kt_legacy-1.0.5-py3-none-any.whl (9.6 kB)\n",
      "Installing collected packages: kt-legacy, keras-tuner\n",
      "Successfully installed keras-tuner-1.4.7 kt-legacy-1.0.5\n"
     ]
    }
   ],
   "source": [
    "!pip install keras-tuner --upgrade"
   ]
  },
  {
   "cell_type": "code",
   "execution_count": 6,
   "id": "d0e121fb-4932-4566-aadb-d2a86ad3dcb7",
   "metadata": {},
   "outputs": [],
   "source": [
    "import pandas as pd\n",
    "import numpy as np\n",
    "from sklearn.preprocessing import LabelEncoder, StandardScaler\n",
    "from tensorflow.keras.models import Sequential\n",
    "from tensorflow.keras.layers import Dense, Dropout, BatchNormalization, Input, LeakyReLU\n",
    "from tensorflow.keras.optimizers import Adam\n",
    "from tensorflow.keras.callbacks import EarlyStopping\n",
    "from keras_tuner.tuners import RandomSearch"
   ]
  },
  {
   "cell_type": "code",
   "execution_count": 7,
   "id": "cac6d567-2de0-4876-89fc-d20557422f55",
   "metadata": {},
   "outputs": [],
   "source": [
    "# Load training and test datasets\n",
    "train_df = pd.read_csv(\"train.csv\")\n",
    "test_df = pd.read_csv(\"test.csv\")"
   ]
  },
  {
   "cell_type": "code",
   "execution_count": 8,
   "id": "6dfe83da-85fd-4e90-876f-aa07522f6c7b",
   "metadata": {},
   "outputs": [],
   "source": [
    "# Extract target variable and drop ID and SalePrice from training data\n",
    "y = np.log1p(train_df[\"SalePrice\"])  # Apply log transformation to reduce skewness\n",
    "X = train_df.drop([\"Id\", \"SalePrice\"], axis=1)\n",
    "X_test = test_df.drop([\"Id\"], axis=1)\n",
    "test_ids = test_df[\"Id\"]"
   ]
  },
  {
   "cell_type": "code",
   "execution_count": 9,
   "id": "9a0bd35b-ee93-4fde-9dea-fa68c2ab9bec",
   "metadata": {},
   "outputs": [],
   "source": [
    "# Combine training and test data for consistent preprocessing\n",
    "all_data = pd.concat([X, X_test], axis=0)"
   ]
  },
  {
   "cell_type": "code",
   "execution_count": 10,
   "id": "58bf36b0-c8b9-4685-ad32-24f75f6518fc",
   "metadata": {},
   "outputs": [],
   "source": [
    "# Handle missing values\n",
    "for col in all_data.columns:\n",
    "    if all_data[col].dtype == \"object\":\n",
    "        all_data[col] = all_data[col].fillna(\"Missing\")\n",
    "    else:\n",
    "        all_data[col] = all_data[col].fillna(all_data[col].median())"
   ]
  },
  {
   "cell_type": "code",
   "execution_count": 11,
   "id": "e6057720-a3b4-4727-bd4f-416cf3adb118",
   "metadata": {},
   "outputs": [],
   "source": [
    "# Convert categorical variables to numerical using label encoding\n",
    "for col in all_data.select_dtypes(include=\"object\").columns:\n",
    "    le = LabelEncoder()\n",
    "    all_data[col] = le.fit_transform(all_data[col])"
   ]
  },
  {
   "cell_type": "code",
   "execution_count": 12,
   "id": "87f1d116-7587-4fdf-a519-23b86b3de367",
   "metadata": {},
   "outputs": [],
   "source": [
    "# Standardize features\n",
    "scaler = StandardScaler()\n",
    "all_data_scaled = scaler.fit_transform(all_data)"
   ]
  },
  {
   "cell_type": "code",
   "execution_count": 13,
   "id": "3ddd0511-a913-401c-b61f-370b96d86a2d",
   "metadata": {},
   "outputs": [],
   "source": [
    "# Split the data back into training and test sets\n",
    "X = all_data_scaled[:len(train_df)]\n",
    "X_test = all_data_scaled[len(train_df):]"
   ]
  },
  {
   "cell_type": "code",
   "execution_count": 16,
   "id": "48c39b07-f03e-4297-962b-6b7ef17c569f",
   "metadata": {},
   "outputs": [],
   "source": [
    "# Define the model building function for KerasTuner\n",
    "def build_model(hp):\n",
    "    model = Sequential()\n",
    "    model.add(Input(shape=(X.shape[1],)))\n",
    "\n",
    "    for i in range(hp.Int('num_layers', 2, 4)):\n",
    "        model.add(Dense(units=hp.Int(f'units_{i}', 64, 256, step=32)))\n",
    "        model.add(LeakyReLU(negative_slope=0.1))  # updated here\n",
    "        model.add(BatchNormalization())\n",
    "        model.add(Dropout(rate=hp.Float(f'dropout_{i}', 0.2, 0.5, step=0.1)))\n",
    "\n",
    "    model.add(Dense(1))\n",
    "\n",
    "    model.compile(\n",
    "        optimizer=Adam(learning_rate=hp.Float('lr', 1e-4, 1e-2, sampling='log')),\n",
    "        loss='mse'\n",
    "    )\n",
    "    return model\n"
   ]
  },
  {
   "cell_type": "code",
   "execution_count": 17,
   "id": "182ad1e6-a2e2-441a-90a1-af76ab9dc067",
   "metadata": {},
   "outputs": [],
   "source": [
    "# Initialize the tuner with RandomSearch\n",
    "tuner = RandomSearch(\n",
    "    build_model,\n",
    "    objective='val_loss',\n",
    "    max_trials=10,\n",
    "    executions_per_trial=1,\n",
    "    directory='kt_dir',\n",
    "    project_name='house_price_tuning'\n",
    ")"
   ]
  },
  {
   "cell_type": "code",
   "execution_count": 18,
   "id": "8ec2de7b-f11f-4700-813a-01a0d1a06617",
   "metadata": {},
   "outputs": [],
   "source": [
    "# Set early stopping to avoid overfitting\n",
    "early_stop = EarlyStopping(monitor='val_loss', patience=10, restore_best_weights=True)"
   ]
  },
  {
   "cell_type": "code",
   "execution_count": 19,
   "id": "b04d8d9a-b909-4ec3-bc06-7b131f3dbc27",
   "metadata": {},
   "outputs": [
    {
     "name": "stdout",
     "output_type": "stream",
     "text": [
      "Trial 10 Complete [00h 00m 12s]\n",
      "val_loss: 0.22199398279190063\n",
      "\n",
      "Best val_loss So Far: 0.024212408810853958\n",
      "Total elapsed time: 00h 02m 09s\n"
     ]
    }
   ],
   "source": [
    "# Start the hyperparameter search\n",
    "tuner.search(X, y, validation_split=0.1, epochs=100, batch_size=32, callbacks=[early_stop])"
   ]
  },
  {
   "cell_type": "code",
   "execution_count": 22,
   "id": "4e17719b-6dc7-4bb8-a20f-4156bce7f72a",
   "metadata": {},
   "outputs": [],
   "source": [
    "# Retrieve the best model found by the tuner\n",
    "best_model = tuner.get_best_models(num_models=1)[0]"
   ]
  },
  {
   "cell_type": "code",
   "execution_count": 23,
   "id": "de45b337-46b9-4fe9-9bb5-b1ee7bd2e2ba",
   "metadata": {},
   "outputs": [
    {
     "name": "stdout",
     "output_type": "stream",
     "text": [
      "\u001b[1m46/46\u001b[0m \u001b[32m━━━━━━━━━━━━━━━━━━━━\u001b[0m\u001b[37m\u001b[0m \u001b[1m0s\u001b[0m 2ms/step\n"
     ]
    }
   ],
   "source": [
    "# Predict on the test data and reverse the log transformation\n",
    "preds = np.expm1(best_model.predict(X_test))"
   ]
  },
  {
   "cell_type": "code",
   "execution_count": 24,
   "id": "9674e4c7-d4d8-495b-a1d4-68617a5ab4e6",
   "metadata": {},
   "outputs": [
    {
     "name": "stdout",
     "output_type": "stream",
     "text": [
      "Submission saved: submission_tuned.csv\n"
     ]
    }
   ],
   "source": [
    "# Create the submission file\n",
    "submission = pd.DataFrame({\"Id\": test_ids, \"SalePrice\": preds.flatten()})\n",
    "submission.to_csv(\"submission_tuned.csv\", index=False)\n",
    "\n",
    "print(\"Submission saved: submission_tuned.csv\")"
   ]
  },
  {
   "cell_type": "code",
   "execution_count": null,
   "id": "ce4c24d5-6d6c-4994-aa85-bd111d4e1013",
   "metadata": {},
   "outputs": [],
   "source": []
  }
 ],
 "metadata": {
  "kernelspec": {
   "display_name": "Python 3 (ipykernel)",
   "language": "python",
   "name": "python3"
  },
  "language_info": {
   "codemirror_mode": {
    "name": "ipython",
    "version": 3
   },
   "file_extension": ".py",
   "mimetype": "text/x-python",
   "name": "python",
   "nbconvert_exporter": "python",
   "pygments_lexer": "ipython3",
   "version": "3.12.7"
  }
 },
 "nbformat": 4,
 "nbformat_minor": 5
}
